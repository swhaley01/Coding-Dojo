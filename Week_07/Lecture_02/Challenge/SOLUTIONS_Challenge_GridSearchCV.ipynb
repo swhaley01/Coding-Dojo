{
  "nbformat": 4,
  "nbformat_minor": 0,
  "metadata": {
    "colab": {
      "name": "SOLUTIONS-Challenge GridSearchCV.ipynb",
      "provenance": [],
      "collapsed_sections": [],
      "include_colab_link": true
    },
    "kernelspec": {
      "name": "python3",
      "display_name": "Python 3"
    }
  },
  "cells": [
    {
      "cell_type": "markdown",
      "metadata": {
        "id": "view-in-github",
        "colab_type": "text"
      },
      "source": [
        "<a href=\"https://colab.research.google.com/github/swhaley01/Coding-Dojo/blob/main/Week_07/Lecture_02/Challenge/SOLUTIONS_Challenge_GridSearchCV.ipynb\" target=\"_parent\"><img src=\"https://colab.research.google.com/assets/colab-badge.svg\" alt=\"Open In Colab\"/></a>"
      ]
    },
    {
      "cell_type": "markdown",
      "metadata": {
        "id": "W126R0Qz5QNm"
      },
      "source": [
        "<center>\n",
        "<img src=\"https://course_report_production.s3.amazonaws.com/rich/rich_files/rich_files/2470/s300/cd-logo-blue-600x600.png\" alt=\"Coding Dojo Logo\" class=\"center\" height=\"50\">\n",
        "\n",
        "# Classification - Pipelines and GridSearchCV\n",
        "\n",
        "*Make a copy of this notebook to edit!*\n",
        "\n",
        "<img src=\"https://external-content.duckduckgo.com/iu/?u=https%3A%2F%2Fcdn.searchenginejournal.com%2Fwp-content%2Fuploads%2F2020%2F08%2Fcopy-the-colab-notebook-to-your-google-drive-5f2579179f746.jpg&f=1&nofb=1\" alt=\"Make a copy\" class=\"center\" height=\"300\">\n",
        "\n",
        "</center>"
      ]
    },
    {
      "cell_type": "code",
      "source": [
        "from google.colab import drive\n",
        "drive.mount('/content/drive')"
      ],
      "metadata": {
        "colab": {
          "base_uri": "https://localhost:8080/"
        },
        "id": "xks61Qck-Ql0",
        "outputId": "2b26092e-6ee0-491a-8354-988df3e7de5d"
      },
      "execution_count": null,
      "outputs": [
        {
          "output_type": "stream",
          "name": "stdout",
          "text": [
            "Drive already mounted at /content/drive; to attempt to forcibly remount, call drive.mount(\"/content/drive\", force_remount=True).\n"
          ]
        }
      ]
    },
    {
      "cell_type": "markdown",
      "source": [
        "## Task\n",
        "\n",
        "Your task is to build the best model possible using [this dataset](https://archive.ics.uci.edu/ml/datasets/abalone). Your goal is to predict the Sex."
      ],
      "metadata": {
        "id": "nyRk1r-GrpPe"
      }
    },
    {
      "cell_type": "code",
      "metadata": {
        "id": "YKdUzIdbd-GH"
      },
      "source": [
        "# Imports\n",
        "import pandas as pd\n",
        "import numpy as np\n",
        "from sklearn.model_selection import train_test_split\n",
        "from sklearn.preprocessing import StandardScaler, OneHotEncoder\n",
        "from sklearn.pipeline import make_pipeline\n",
        "from sklearn.neighbors import KNeighborsClassifier\n",
        "from sklearn.compose import make_column_selector, make_column_transformer\n",
        "from sklearn.model_selection import GridSearchCV, RandomizedSearchCV\n",
        "from sklearn.metrics import accuracy_score, classification_report"
      ],
      "execution_count": null,
      "outputs": []
    },
    {
      "cell_type": "code",
      "metadata": {
        "id": "92LoqNJb6mpm"
      },
      "source": [
        "#load data\n",
        "df = pd.read_csv('/content/drive/MyDrive/Coding Dojo/Exercises/2 - DS Machine Learning/DS Machine Learning-Week 1/abalone.data', header=None)\n"
      ],
      "execution_count": null,
      "outputs": []
    },
    {
      "cell_type": "code",
      "source": [
        "#Rename columns with a dictionary\n",
        "\n",
        "df = df.rename(columns={0: 'Sex',\n",
        "                        1: 'Length', \n",
        "                        2: 'Diameter',\n",
        "                        3: 'Height',\n",
        "                        4: 'Whole Weight',\n",
        "                        5: 'Shgucked Weight', \n",
        "                        6: 'Viscera Weight',\n",
        "                        7: 'Shell Weight', \n",
        "                        8: 'Rings'})"
      ],
      "metadata": {
        "id": "o3H0z98Ko4Sz"
      },
      "execution_count": null,
      "outputs": []
    },
    {
      "cell_type": "code",
      "metadata": {
        "id": "TXuWDiCr6sDD",
        "colab": {
          "base_uri": "https://localhost:8080/"
        },
        "outputId": "d56879e3-9f69-4a86-c16e-faf4bd0cd1f3"
      },
      "source": [
        "# check for duplicates\n",
        "df.duplicated().sum()"
      ],
      "execution_count": null,
      "outputs": [
        {
          "output_type": "execute_result",
          "data": {
            "text/plain": [
              "0"
            ]
          },
          "metadata": {},
          "execution_count": 20
        }
      ]
    },
    {
      "cell_type": "code",
      "metadata": {
        "colab": {
          "base_uri": "https://localhost:8080/"
        },
        "id": "DpRv1ewy7s5i",
        "outputId": "35b5d029-f1d5-4520-c37d-5503ffc3c15e"
      },
      "source": [
        "#Check the info of the data.\n",
        "df.info()"
      ],
      "execution_count": null,
      "outputs": [
        {
          "output_type": "stream",
          "name": "stdout",
          "text": [
            "<class 'pandas.core.frame.DataFrame'>\n",
            "RangeIndex: 4177 entries, 0 to 4176\n",
            "Data columns (total 9 columns):\n",
            " #   Column           Non-Null Count  Dtype  \n",
            "---  ------           --------------  -----  \n",
            " 0   Sex              4177 non-null   object \n",
            " 1   Length           4177 non-null   float64\n",
            " 2   Diameter         4177 non-null   float64\n",
            " 3   Height           4177 non-null   float64\n",
            " 4   Whole Weight     4177 non-null   float64\n",
            " 5   Shgucked Weight  4177 non-null   float64\n",
            " 6   Viscera Weight   4177 non-null   float64\n",
            " 7   Shell Weight     4177 non-null   float64\n",
            " 8   Rings            4177 non-null   int64  \n",
            "dtypes: float64(7), int64(1), object(1)\n",
            "memory usage: 293.8+ KB\n"
          ]
        }
      ]
    },
    {
      "cell_type": "code",
      "metadata": {
        "colab": {
          "base_uri": "https://localhost:8080/"
        },
        "id": "sAc8dOQCHg_R",
        "outputId": "aa8d1b3b-ed6b-49d4-9c11-480df5f10a79"
      },
      "source": [
        "# Check the class balance\n",
        "df['Sex'].value_counts()"
      ],
      "execution_count": null,
      "outputs": [
        {
          "output_type": "execute_result",
          "data": {
            "text/plain": [
              "M    1528\n",
              "I    1342\n",
              "F    1307\n",
              "Name: Sex, dtype: int64"
            ]
          },
          "metadata": {},
          "execution_count": 22
        }
      ]
    },
    {
      "cell_type": "code",
      "metadata": {
        "id": "kUo2kW7h6yMR"
      },
      "source": [
        "# split data into train and test sets.\n",
        "# notice that stratify = y will give the same proportions in our train and test sets\n",
        "X = df.drop(columns='Sex')\n",
        "y = df['Sex']\n",
        "\n",
        "X_train, X_test, y_train, y_test = train_test_split(X, y, random_state=42, stratify=y)"
      ],
      "execution_count": null,
      "outputs": []
    },
    {
      "cell_type": "code",
      "source": [
        "# instantiate scaler and one hot encoder\n",
        "scaler = StandardScaler()\n",
        "encoder = OneHotEncoder(sparse=False, handle_unknown='ignore')"
      ],
      "metadata": {
        "id": "K-1AQiTjpE39"
      },
      "execution_count": null,
      "outputs": []
    },
    {
      "cell_type": "code",
      "source": [
        "# instantiate the column selectors\n",
        "category_selector = make_column_selector(dtype_include='object')\n",
        "numeric_selector = make_column_selector(dtype_include='number')"
      ],
      "metadata": {
        "id": "9ky8UObNpGRI"
      },
      "execution_count": null,
      "outputs": []
    },
    {
      "cell_type": "code",
      "source": [
        "# create tuples and put them in a column transformer\n",
        "ohe_tuple = (encoder, category_selector)\n",
        "scaler_tuple = (scaler, numeric_selector)\n",
        "\n",
        "col_transformer = make_column_transformer(ohe_tuple, scaler_tuple, remainder='passthrough')"
      ],
      "metadata": {
        "id": "EXuVGzu0pIBO"
      },
      "execution_count": null,
      "outputs": []
    },
    {
      "cell_type": "code",
      "metadata": {
        "id": "bpV0iuFv65a5",
        "colab": {
          "base_uri": "https://localhost:8080/"
        },
        "outputId": "d9be8054-0ca6-4275-b1ac-a1764c47d8cb"
      },
      "source": [
        "# create and fit a KNN model\n",
        "# use a pipeline with the column transformer and the model\n",
        "knn = KNeighborsClassifier()\n",
        "\n",
        "knn_pipe = make_pipeline(col_transformer, knn)\n",
        "\n",
        "knn_pipe.fit(X_train, y_train)"
      ],
      "execution_count": null,
      "outputs": [
        {
          "output_type": "execute_result",
          "data": {
            "text/plain": [
              "Pipeline(steps=[('columntransformer',\n",
              "                 ColumnTransformer(remainder='passthrough',\n",
              "                                   transformers=[('onehotencoder',\n",
              "                                                  OneHotEncoder(handle_unknown='ignore',\n",
              "                                                                sparse=False),\n",
              "                                                  <sklearn.compose._column_transformer.make_column_selector object at 0x7f546c444e90>),\n",
              "                                                 ('standardscaler',\n",
              "                                                  StandardScaler(),\n",
              "                                                  <sklearn.compose._column_transformer.make_column_selector object at 0x7f546c8fa390>)])),\n",
              "                ('kneighborsclassifier', KNeighborsClassifier())])"
            ]
          },
          "metadata": {},
          "execution_count": 27
        }
      ]
    },
    {
      "cell_type": "code",
      "source": [
        "# get paramaters out from the pipeline\n",
        "knn_pipe.get_params()"
      ],
      "metadata": {
        "colab": {
          "base_uri": "https://localhost:8080/"
        },
        "id": "t9o5v0IC_GWI",
        "outputId": "cccb9d48-aa66-46df-f568-28c2d4a116a3"
      },
      "execution_count": null,
      "outputs": [
        {
          "output_type": "execute_result",
          "data": {
            "text/plain": [
              "{'columntransformer': ColumnTransformer(remainder='passthrough',\n",
              "                   transformers=[('onehotencoder',\n",
              "                                  OneHotEncoder(handle_unknown='ignore',\n",
              "                                                sparse=False),\n",
              "                                  <sklearn.compose._column_transformer.make_column_selector object at 0x7f546c444e90>),\n",
              "                                 ('standardscaler', StandardScaler(),\n",
              "                                  <sklearn.compose._column_transformer.make_column_selector object at 0x7f546c8fa390>)]),\n",
              " 'columntransformer__n_jobs': None,\n",
              " 'columntransformer__onehotencoder': OneHotEncoder(handle_unknown='ignore', sparse=False),\n",
              " 'columntransformer__onehotencoder__categories': 'auto',\n",
              " 'columntransformer__onehotencoder__drop': None,\n",
              " 'columntransformer__onehotencoder__dtype': numpy.float64,\n",
              " 'columntransformer__onehotencoder__handle_unknown': 'ignore',\n",
              " 'columntransformer__onehotencoder__sparse': False,\n",
              " 'columntransformer__remainder': 'passthrough',\n",
              " 'columntransformer__sparse_threshold': 0.3,\n",
              " 'columntransformer__standardscaler': StandardScaler(),\n",
              " 'columntransformer__standardscaler__copy': True,\n",
              " 'columntransformer__standardscaler__with_mean': True,\n",
              " 'columntransformer__standardscaler__with_std': True,\n",
              " 'columntransformer__transformer_weights': None,\n",
              " 'columntransformer__transformers': [('onehotencoder',\n",
              "   OneHotEncoder(handle_unknown='ignore', sparse=False),\n",
              "   <sklearn.compose._column_transformer.make_column_selector at 0x7f546c444e90>),\n",
              "  ('standardscaler',\n",
              "   StandardScaler(),\n",
              "   <sklearn.compose._column_transformer.make_column_selector at 0x7f546c8fa390>)],\n",
              " 'columntransformer__verbose': False,\n",
              " 'columntransformer__verbose_feature_names_out': True,\n",
              " 'kneighborsclassifier': KNeighborsClassifier(),\n",
              " 'kneighborsclassifier__algorithm': 'auto',\n",
              " 'kneighborsclassifier__leaf_size': 30,\n",
              " 'kneighborsclassifier__metric': 'minkowski',\n",
              " 'kneighborsclassifier__metric_params': None,\n",
              " 'kneighborsclassifier__n_jobs': None,\n",
              " 'kneighborsclassifier__n_neighbors': 5,\n",
              " 'kneighborsclassifier__p': 2,\n",
              " 'kneighborsclassifier__weights': 'uniform',\n",
              " 'memory': None,\n",
              " 'steps': [('columntransformer', ColumnTransformer(remainder='passthrough',\n",
              "                     transformers=[('onehotencoder',\n",
              "                                    OneHotEncoder(handle_unknown='ignore',\n",
              "                                                  sparse=False),\n",
              "                                    <sklearn.compose._column_transformer.make_column_selector object at 0x7f546c444e90>),\n",
              "                                   ('standardscaler', StandardScaler(),\n",
              "                                    <sklearn.compose._column_transformer.make_column_selector object at 0x7f546c8fa390>)])),\n",
              "  ('kneighborsclassifier', KNeighborsClassifier())],\n",
              " 'verbose': False}"
            ]
          },
          "metadata": {},
          "execution_count": 28
        }
      ]
    },
    {
      "cell_type": "code",
      "metadata": {
        "id": "qK18qbWA7YoQ",
        "colab": {
          "base_uri": "https://localhost:8080/"
        },
        "outputId": "9c166088-80c3-4c4f-bb01-0d870706fae3"
      },
      "source": [
        "# If we wanted to stop here, we could now get the accuracy\n",
        "train_preds = knn_pipe.predict(X_train)\n",
        "test_preds = knn_pipe.predict(X_test)\n",
        "\n",
        "print('train accuracy:', accuracy_score(y_train, train_preds))\n",
        "print('\\n')\n",
        "print('test accuracy:', accuracy_score(y_test, test_preds))"
      ],
      "execution_count": null,
      "outputs": [
        {
          "output_type": "stream",
          "name": "stdout",
          "text": [
            "train accuracy: 0.6819923371647509\n",
            "\n",
            "\n",
            "test accuracy: 0.5301435406698565\n"
          ]
        }
      ]
    },
    {
      "cell_type": "markdown",
      "metadata": {
        "id": "7WnzBgwh7HwO"
      },
      "source": [
        "# GridSearchCV\n",
        "Since we just tried the default model, we should tune the model to optimize our results\n",
        "to understand your options, use the documentation...the link is provided below.\n",
        "It is beyond the scope of this course to discuss all of the hyperparameters, but you can try them out and see "
      ]
    },
    {
      "cell_type": "markdown",
      "metadata": {
        "id": "EJPrU5OC7r6r"
      },
      "source": [
        "https://scikit-learn.org/stable/modules/generated/sklearn.neighbors.KNeighborsClassifier.html"
      ]
    },
    {
      "cell_type": "code",
      "metadata": {
        "id": "47fiVwOV7rbh"
      },
      "source": [
        "# Using the documentation as your guide, define a dictionary of the pararameters \n",
        "# you want to tune and the values you want to try out\n",
        "params = {'kneighborsclassifier__n_neighbors': range(1,20),\n",
        "          'kneighborsclassifier__weights': ['uniform','distance'],\n",
        "          'kneighborsclassifier__p': [2,3,4]}"
      ],
      "execution_count": null,
      "outputs": []
    },
    {
      "cell_type": "code",
      "metadata": {
        "id": "JPOcVBH673n4",
        "colab": {
          "base_uri": "https://localhost:8080/"
        },
        "outputId": "94310a96-cc33-47e1-d7a8-7245a574363f"
      },
      "source": [
        "# Instantiate a gridsearch with the model you want to use and your hyperparamter dictionary\n",
        "# Depending on how many parameters you are testing and how many options you are trying, this may take awhile!\n",
        "knn_grid = GridSearchCV(knn_pipe, params)\n",
        "\n",
        "knn_grid.fit(X_train, y_train)"
      ],
      "execution_count": null,
      "outputs": [
        {
          "output_type": "execute_result",
          "data": {
            "text/plain": [
              "GridSearchCV(estimator=Pipeline(steps=[('columntransformer',\n",
              "                                        ColumnTransformer(remainder='passthrough',\n",
              "                                                          transformers=[('onehotencoder',\n",
              "                                                                         OneHotEncoder(handle_unknown='ignore',\n",
              "                                                                                       sparse=False),\n",
              "                                                                         <sklearn.compose._column_transformer.make_column_selector object at 0x7f546c444e90>),\n",
              "                                                                        ('standardscaler',\n",
              "                                                                         StandardScaler(),\n",
              "                                                                         <sklearn.compose._column_transformer.make_column_selector object at 0x7f546c8fa390>)])),\n",
              "                                       ('kneighborsclassifier',\n",
              "                                        KNeighborsClassifier())]),\n",
              "             param_grid={'kneighborsclassifier__n_neighbors': range(1, 20),\n",
              "                         'kneighborsclassifier__p': [2, 3, 4],\n",
              "                         'kneighborsclassifier__weights': ['uniform',\n",
              "                                                           'distance']})"
            ]
          },
          "metadata": {},
          "execution_count": 31
        }
      ]
    },
    {
      "cell_type": "code",
      "metadata": {
        "id": "-jscRQPX8CoH",
        "colab": {
          "base_uri": "https://localhost:8080/"
        },
        "outputId": "0340ac8d-4776-4f22-a734-d60fa7915350"
      },
      "source": [
        "# Check the optimal combinations of hyperparameters\n",
        "knn_grid.best_params_"
      ],
      "execution_count": null,
      "outputs": [
        {
          "output_type": "execute_result",
          "data": {
            "text/plain": [
              "{'kneighborsclassifier__n_neighbors': 11,\n",
              " 'kneighborsclassifier__p': 3,\n",
              " 'kneighborsclassifier__weights': 'distance'}"
            ]
          },
          "metadata": {},
          "execution_count": 32
        }
      ]
    },
    {
      "cell_type": "code",
      "metadata": {
        "id": "XfcerhxZCW0B"
      },
      "source": [
        "# extract the best version of the model from the gridsearch object\n",
        "best_knn = knn_grid.best_estimator_"
      ],
      "execution_count": null,
      "outputs": []
    },
    {
      "cell_type": "code",
      "metadata": {
        "id": "p4_ALS248HAl",
        "colab": {
          "base_uri": "https://localhost:8080/"
        },
        "outputId": "02c0f3ec-b124-47fc-b52a-d97bfdd21b5a"
      },
      "source": [
        "# Run a classification report on both train and test datasets for the best model. \n",
        "# How is your model doing?  Did the performance improve? How is the overfitting?\n",
        "train_preds = best_knn.predict(X_train)\n",
        "test_preds = best_knn.predict(X_test)\n",
        "print('Best Model Train Metrics')\n",
        "print(classification_report(y_train, train_preds))\n",
        "print('\\nBest Model Test Metrics')\n",
        "print(classification_report(y_test, test_preds))"
      ],
      "execution_count": null,
      "outputs": [
        {
          "output_type": "stream",
          "name": "stdout",
          "text": [
            "Best Model Train Metrics\n",
            "              precision    recall  f1-score   support\n",
            "\n",
            "           F       1.00      1.00      1.00       980\n",
            "           I       1.00      1.00      1.00      1006\n",
            "           M       1.00      1.00      1.00      1146\n",
            "\n",
            "    accuracy                           1.00      3132\n",
            "   macro avg       1.00      1.00      1.00      3132\n",
            "weighted avg       1.00      1.00      1.00      3132\n",
            "\n",
            "\n",
            "Best Model Test Metrics\n",
            "              precision    recall  f1-score   support\n",
            "\n",
            "           F       0.43      0.35      0.39       327\n",
            "           I       0.70      0.74      0.72       336\n",
            "           M       0.46      0.51      0.48       382\n",
            "\n",
            "    accuracy                           0.53      1045\n",
            "   macro avg       0.53      0.53      0.53      1045\n",
            "weighted avg       0.53      0.53      0.53      1045\n",
            "\n"
          ]
        }
      ]
    },
    {
      "cell_type": "code",
      "source": [
        "# print accurcay score for both the training and testing sets.\n",
        "print('Best Model Train Metrics')\n",
        "print(accuracy_score(y_train, train_preds))\n",
        "print('\\nBest Model Test Metrics')\n",
        "print(accuracy_score(y_test, test_preds))"
      ],
      "metadata": {
        "colab": {
          "base_uri": "https://localhost:8080/"
        },
        "id": "Rdo-_ySD3ME8",
        "outputId": "824257d0-f6a3-42aa-a640-db37910d84f8"
      },
      "execution_count": null,
      "outputs": [
        {
          "output_type": "stream",
          "name": "stdout",
          "text": [
            "Best Model Train Metrics\n",
            "1.0\n",
            "\n",
            "Best Model Test Metrics\n",
            "0.5320574162679426\n"
          ]
        }
      ]
    },
    {
      "cell_type": "code",
      "metadata": {
        "id": "GZMj0pheBhqx"
      },
      "source": [
        "# Your turn! Try creating a pipeline with gridsearchCV using two other classification models! \n",
        "# Remember to explore the hyperparameter options in the documentation for the model"
      ],
      "execution_count": null,
      "outputs": []
    },
    {
      "cell_type": "code",
      "source": [
        ""
      ],
      "metadata": {
        "id": "gwfMOl4Zp1ze"
      },
      "execution_count": null,
      "outputs": []
    }
  ]
}