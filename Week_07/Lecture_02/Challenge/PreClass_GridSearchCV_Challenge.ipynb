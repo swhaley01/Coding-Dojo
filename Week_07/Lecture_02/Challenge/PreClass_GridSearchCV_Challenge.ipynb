{
  "nbformat": 4,
  "nbformat_minor": 0,
  "metadata": {
    "colab": {
      "name": "Challenge GridSearchCV Challenge.ipynb",
      "provenance": [],
      "collapsed_sections": [],
      "include_colab_link": true
    },
    "kernelspec": {
      "name": "python3",
      "display_name": "Python 3"
    }
  },
  "cells": [
    {
      "cell_type": "markdown",
      "metadata": {
        "id": "view-in-github",
        "colab_type": "text"
      },
      "source": [
        "<a href=\"https://colab.research.google.com/github/swhaley01/Coding-Dojo/blob/main/Week_07/Lecture_02/Challenge/PreClass_GridSearchCV_Challenge.ipynb\" target=\"_parent\"><img src=\"https://colab.research.google.com/assets/colab-badge.svg\" alt=\"Open In Colab\"/></a>"
      ]
    },
    {
      "cell_type": "markdown",
      "metadata": {
        "id": "W126R0Qz5QNm"
      },
      "source": [
        "<center>\n",
        "<img src=\"https://course_report_production.s3.amazonaws.com/rich/rich_files/rich_files/2470/s300/cd-logo-blue-600x600.png\" alt=\"Coding Dojo Logo\" class=\"center\" height=\"50\">\n",
        "\n",
        "# Classification - Pipelines and GridSearchCV\n",
        "\n",
        "*Make a copy of this notebook to edit!*\n",
        "\n",
        "<img src=\"https://external-content.duckduckgo.com/iu/?u=https%3A%2F%2Fcdn.searchenginejournal.com%2Fwp-content%2Fuploads%2F2020%2F08%2Fcopy-the-colab-notebook-to-your-google-drive-5f2579179f746.jpg&f=1&nofb=1\" alt=\"Make a copy\" class=\"center\" height=\"300\">\n",
        "\n",
        "</center>"
      ]
    },
    {
      "cell_type": "code",
      "source": [
        "from google.colab import drive\n",
        "drive.mount('/content/drive')"
      ],
      "metadata": {
        "colab": {
          "base_uri": "https://localhost:8080/"
        },
        "id": "xks61Qck-Ql0",
        "outputId": "2712697d-a2df-4600-febf-debbe3742094"
      },
      "execution_count": null,
      "outputs": [
        {
          "output_type": "stream",
          "name": "stdout",
          "text": [
            "Mounted at /content/drive\n"
          ]
        }
      ]
    },
    {
      "cell_type": "markdown",
      "source": [
        "## Task\n",
        "\n",
        "Your task is to build the best model possible using [this dataset](https://archive.ics.uci.edu/ml/datasets/abalone). Your goal is to predict the Sex."
      ],
      "metadata": {
        "id": "nyRk1r-GrpPe"
      }
    },
    {
      "cell_type": "code",
      "metadata": {
        "id": "YKdUzIdbd-GH"
      },
      "source": [
        "# Imports\n",
        "import pandas as pd\n",
        "import numpy as np\n",
        "from sklearn.model_selection import train_test_split\n",
        "from sklearn.preprocessing import StandardScaler, OneHotEncoder\n",
        "from sklearn.pipeline import make_pipeline\n",
        "from sklearn.neighbors import KNeighborsClassifier\n",
        "from sklearn.compose import make_column_selector, make_column_transformer\n",
        "from sklearn.model_selection import GridSearchCV, RandomizedSearchCV\n",
        "from sklearn.metrics import accuracy_score, classification_report"
      ],
      "execution_count": null,
      "outputs": []
    },
    {
      "cell_type": "code",
      "metadata": {
        "id": "92LoqNJb6mpm"
      },
      "source": [
        "#load data\n",
        "df = pd.read_csv('/content/drive/MyDrive/Coding Dojo/Exercises/2 - DS Machine Learning/DS Machine Learning-Week 1/abalone.data', header=None)\n"
      ],
      "execution_count": null,
      "outputs": []
    },
    {
      "cell_type": "code",
      "source": [
        "#Rename columns with a dictionary\n",
        "\n",
        "df = df.rename(columns={0: 'Sex',\n",
        "                        1: 'Length', \n",
        "                        2: 'Diameter',\n",
        "                        3: 'Height',\n",
        "                        4: 'Whole Weight',\n",
        "                        5: 'Shgucked Weight', \n",
        "                        6: 'Viscera Weight',\n",
        "                        7: 'Shell Weight', \n",
        "                        8: 'Rings'})"
      ],
      "metadata": {
        "id": "o3H0z98Ko4Sz"
      },
      "execution_count": null,
      "outputs": []
    },
    {
      "cell_type": "code",
      "metadata": {
        "id": "TXuWDiCr6sDD",
        "colab": {
          "base_uri": "https://localhost:8080/"
        },
        "outputId": "a644e07e-e7e1-472b-cbf9-abc8fa487b9c"
      },
      "source": [
        "# check for duplicates\n",
        "df.duplicated().sum()"
      ],
      "execution_count": null,
      "outputs": [
        {
          "output_type": "execute_result",
          "data": {
            "text/plain": [
              "0"
            ]
          },
          "metadata": {},
          "execution_count": 5
        }
      ]
    },
    {
      "cell_type": "code",
      "metadata": {
        "colab": {
          "base_uri": "https://localhost:8080/"
        },
        "id": "DpRv1ewy7s5i",
        "outputId": "eb5e61f0-fc8b-4aef-eb41-b3fe450720c6"
      },
      "source": [
        "#Check the info of the data.\n",
        "df.info()"
      ],
      "execution_count": null,
      "outputs": [
        {
          "output_type": "stream",
          "name": "stdout",
          "text": [
            "<class 'pandas.core.frame.DataFrame'>\n",
            "RangeIndex: 4177 entries, 0 to 4176\n",
            "Data columns (total 9 columns):\n",
            " #   Column           Non-Null Count  Dtype  \n",
            "---  ------           --------------  -----  \n",
            " 0   Sex              4177 non-null   object \n",
            " 1   Length           4177 non-null   float64\n",
            " 2   Diameter         4177 non-null   float64\n",
            " 3   Height           4177 non-null   float64\n",
            " 4   Whole Weight     4177 non-null   float64\n",
            " 5   Shgucked Weight  4177 non-null   float64\n",
            " 6   Viscera Weight   4177 non-null   float64\n",
            " 7   Shell Weight     4177 non-null   float64\n",
            " 8   Rings            4177 non-null   int64  \n",
            "dtypes: float64(7), int64(1), object(1)\n",
            "memory usage: 293.8+ KB\n"
          ]
        }
      ]
    },
    {
      "cell_type": "code",
      "metadata": {
        "id": "sAc8dOQCHg_R"
      },
      "source": [
        "# Check the class balance\n"
      ],
      "execution_count": null,
      "outputs": []
    },
    {
      "cell_type": "code",
      "metadata": {
        "id": "kUo2kW7h6yMR"
      },
      "source": [
        "# split data into train and test sets.\n",
        "# notice that stratify = y will give the same proportions in our train and test sets\n"
      ],
      "execution_count": null,
      "outputs": []
    },
    {
      "cell_type": "code",
      "source": [
        "# instantiate scaler and one hot encoder\n",
        "scaler = StandardScaler()\n",
        "encoder = OneHotEncoder(sparse=False, handle_unknown='ignore')"
      ],
      "metadata": {
        "id": "K-1AQiTjpE39"
      },
      "execution_count": null,
      "outputs": []
    },
    {
      "cell_type": "code",
      "source": [
        "# instantiate the column selectors\n"
      ],
      "metadata": {
        "id": "9ky8UObNpGRI"
      },
      "execution_count": null,
      "outputs": []
    },
    {
      "cell_type": "code",
      "source": [
        "# create tuples and put them in a column transformer\n"
      ],
      "metadata": {
        "id": "EXuVGzu0pIBO"
      },
      "execution_count": null,
      "outputs": []
    },
    {
      "cell_type": "code",
      "metadata": {
        "id": "bpV0iuFv65a5"
      },
      "source": [
        "# create and fit a KNN model\n",
        "# use a pipeline with the column transformer and the model\n"
      ],
      "execution_count": null,
      "outputs": []
    },
    {
      "cell_type": "code",
      "source": [
        "# get paramaters out from the pipeline\n"
      ],
      "metadata": {
        "id": "t9o5v0IC_GWI"
      },
      "execution_count": null,
      "outputs": []
    },
    {
      "cell_type": "code",
      "metadata": {
        "id": "qK18qbWA7YoQ"
      },
      "source": [
        "# If we wanted to stop here, we could now get the accuracy\n"
      ],
      "execution_count": null,
      "outputs": []
    },
    {
      "cell_type": "markdown",
      "metadata": {
        "id": "7WnzBgwh7HwO"
      },
      "source": [
        "# GridSearchCV\n",
        "Since we just tried the default model, we should tune the model to optimize our results\n",
        "to understand your options, use the documentation...the link is provided below.\n",
        "It is beyond the scope of this course to discuss all of the hyperparameters, but you can try them out and see "
      ]
    },
    {
      "cell_type": "markdown",
      "metadata": {
        "id": "EJPrU5OC7r6r"
      },
      "source": [
        "https://scikit-learn.org/stable/modules/generated/sklearn.neighbors.KNeighborsClassifier.html"
      ]
    },
    {
      "cell_type": "code",
      "metadata": {
        "id": "47fiVwOV7rbh"
      },
      "source": [
        "# Using the documentation as your guide, define a dictionary of the pararameters \n",
        "# you want to tune and the values you want to try out\n"
      ],
      "execution_count": null,
      "outputs": []
    },
    {
      "cell_type": "code",
      "metadata": {
        "id": "JPOcVBH673n4"
      },
      "source": [
        "# Instantiate a gridsearch with the model you want to use and your hyperparamter dictionary\n",
        "# Depending on how many parameters you are testing and how many options you are trying, this may take awhile!\n"
      ],
      "execution_count": null,
      "outputs": []
    },
    {
      "cell_type": "code",
      "metadata": {
        "id": "-jscRQPX8CoH"
      },
      "source": [
        "# Check the optimal combinations of hyperparameters\n"
      ],
      "execution_count": null,
      "outputs": []
    },
    {
      "cell_type": "code",
      "metadata": {
        "id": "XfcerhxZCW0B"
      },
      "source": [
        "# extract the best version of the model from the gridsearch object\n"
      ],
      "execution_count": null,
      "outputs": []
    },
    {
      "cell_type": "code",
      "metadata": {
        "id": "p4_ALS248HAl"
      },
      "source": [
        "# Run a classification report on both train and test datasets for the best model. \n",
        "# How is your model doing?  Did the performance improve? How is the overfitting?\n"
      ],
      "execution_count": null,
      "outputs": []
    },
    {
      "cell_type": "code",
      "source": [
        "# print accurcay score for both the training and testing sets.\n"
      ],
      "metadata": {
        "id": "Rdo-_ySD3ME8"
      },
      "execution_count": null,
      "outputs": []
    },
    {
      "cell_type": "code",
      "metadata": {
        "id": "GZMj0pheBhqx"
      },
      "source": [
        "# Your turn! Try creating a pipeline with gridsearchCV using two other classification models! \n",
        "# Remember to explore the hyperparameter options in the documentation for the model"
      ],
      "execution_count": null,
      "outputs": []
    },
    {
      "cell_type": "code",
      "source": [
        ""
      ],
      "metadata": {
        "id": "gwfMOl4Zp1ze"
      },
      "execution_count": null,
      "outputs": []
    }
  ]
}